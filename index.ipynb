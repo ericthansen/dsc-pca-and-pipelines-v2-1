{
 "cells": [
  {
   "cell_type": "markdown",
   "metadata": {},
   "source": [
    "# Integrating PCA in Pipelines - Lab"
   ]
  },
  {
   "cell_type": "markdown",
   "metadata": {},
   "source": [
    "## Introduction"
   ]
  },
  {
   "cell_type": "markdown",
   "metadata": {},
   "source": [
    "In a previous section, you learned about how to use pipelines in scikit-learn to combine several supervised learning algorithms in a manageable pipeline. In this lesson, you will integrate PCA along with classifiers in the pipeline. "
   ]
  },
  {
   "cell_type": "markdown",
   "metadata": {},
   "source": [
    "## Objectives\n",
    "\n",
    "In this lab you will: \n",
    "\n",
    "- Integrate PCA in scikit-learn pipelines "
   ]
  },
  {
   "cell_type": "markdown",
   "metadata": {},
   "source": [
    "## The Data Science Workflow"
   ]
  },
  {
   "cell_type": "markdown",
   "metadata": {},
   "source": [
    "You will be following the data science workflow:\n",
    "\n",
    "1. Initial data inspection, exploratory data analysis, and cleaning\n",
    "2. Feature engineering and selection\n",
    "3. Create a baseline model\n",
    "4. Create a machine learning pipeline and compare results with the baseline model\n",
    "5. Interpret the model and draw conclusions"
   ]
  },
  {
   "cell_type": "markdown",
   "metadata": {},
   "source": [
    "##  Initial data inspection, exploratory data analysis, and cleaning"
   ]
  },
  {
   "cell_type": "markdown",
   "metadata": {},
   "source": [
    "You'll use a dataset created by the Otto group, which was also used in a [Kaggle competition](https://www.kaggle.com/c/otto-group-product-classification-challenge/data). The description of the dataset is as follows:\n",
    "\n",
    "The Otto Group is one of the world’s biggest e-commerce companies, with subsidiaries in more than 20 countries, including Crate & Barrel (USA), Otto.de (Germany) and 3 Suisses (France). They are selling millions of products worldwide every day, with several thousand products being added to their product line.\n",
    "\n",
    "A consistent analysis of the performance of their products is crucial. However, due to their global infrastructure, many identical products get classified differently. Therefore, the quality of product analysis depends heavily on the ability to accurately cluster similar products. The better the classification, the more insights the Otto Group can generate about their product range.\n",
    "\n",
    "In this lab, you'll use a dataset containing:\n",
    "- A column `id`, which is an anonymous id unique to a product\n",
    "- 93 columns `feat_1`, `feat_2`, ..., `feat_93`, which are the various features of a product\n",
    "- a column `target` - the class of a product\n",
    "\n",
    "\n",
    "\n",
    "The dataset is stored in the `'otto_group.csv'` file. Import this file into a DataFrame called `data`, and then: \n",
    "\n",
    "- Check for missing values \n",
    "- Check the distribution of columns \n",
    "- ... and any other things that come to your mind to explore the data "
   ]
  },
  {
   "cell_type": "code",
   "execution_count": 15,
   "metadata": {},
   "outputs": [
    {
     "data": {
      "text/html": [
       "<div>\n",
       "<style scoped>\n",
       "    .dataframe tbody tr th:only-of-type {\n",
       "        vertical-align: middle;\n",
       "    }\n",
       "\n",
       "    .dataframe tbody tr th {\n",
       "        vertical-align: top;\n",
       "    }\n",
       "\n",
       "    .dataframe thead th {\n",
       "        text-align: right;\n",
       "    }\n",
       "</style>\n",
       "<table border=\"1\" class=\"dataframe\">\n",
       "  <thead>\n",
       "    <tr style=\"text-align: right;\">\n",
       "      <th></th>\n",
       "      <th>id</th>\n",
       "      <th>feat_1</th>\n",
       "      <th>feat_2</th>\n",
       "      <th>feat_3</th>\n",
       "      <th>feat_4</th>\n",
       "      <th>feat_5</th>\n",
       "      <th>feat_6</th>\n",
       "      <th>feat_7</th>\n",
       "      <th>feat_8</th>\n",
       "      <th>feat_9</th>\n",
       "      <th>...</th>\n",
       "      <th>feat_85</th>\n",
       "      <th>feat_86</th>\n",
       "      <th>feat_87</th>\n",
       "      <th>feat_88</th>\n",
       "      <th>feat_89</th>\n",
       "      <th>feat_90</th>\n",
       "      <th>feat_91</th>\n",
       "      <th>feat_92</th>\n",
       "      <th>feat_93</th>\n",
       "      <th>target</th>\n",
       "    </tr>\n",
       "  </thead>\n",
       "  <tbody>\n",
       "    <tr>\n",
       "      <th>0</th>\n",
       "      <td>1</td>\n",
       "      <td>1</td>\n",
       "      <td>0</td>\n",
       "      <td>0</td>\n",
       "      <td>0</td>\n",
       "      <td>0</td>\n",
       "      <td>0</td>\n",
       "      <td>0</td>\n",
       "      <td>0</td>\n",
       "      <td>0</td>\n",
       "      <td>...</td>\n",
       "      <td>1</td>\n",
       "      <td>0</td>\n",
       "      <td>0</td>\n",
       "      <td>0</td>\n",
       "      <td>0</td>\n",
       "      <td>0</td>\n",
       "      <td>0</td>\n",
       "      <td>0</td>\n",
       "      <td>0</td>\n",
       "      <td>Class_1</td>\n",
       "    </tr>\n",
       "    <tr>\n",
       "      <th>1</th>\n",
       "      <td>2</td>\n",
       "      <td>0</td>\n",
       "      <td>0</td>\n",
       "      <td>0</td>\n",
       "      <td>0</td>\n",
       "      <td>0</td>\n",
       "      <td>0</td>\n",
       "      <td>0</td>\n",
       "      <td>1</td>\n",
       "      <td>0</td>\n",
       "      <td>...</td>\n",
       "      <td>0</td>\n",
       "      <td>0</td>\n",
       "      <td>0</td>\n",
       "      <td>0</td>\n",
       "      <td>0</td>\n",
       "      <td>0</td>\n",
       "      <td>0</td>\n",
       "      <td>0</td>\n",
       "      <td>0</td>\n",
       "      <td>Class_1</td>\n",
       "    </tr>\n",
       "    <tr>\n",
       "      <th>2</th>\n",
       "      <td>3</td>\n",
       "      <td>0</td>\n",
       "      <td>0</td>\n",
       "      <td>0</td>\n",
       "      <td>0</td>\n",
       "      <td>0</td>\n",
       "      <td>0</td>\n",
       "      <td>0</td>\n",
       "      <td>1</td>\n",
       "      <td>0</td>\n",
       "      <td>...</td>\n",
       "      <td>0</td>\n",
       "      <td>0</td>\n",
       "      <td>0</td>\n",
       "      <td>0</td>\n",
       "      <td>0</td>\n",
       "      <td>0</td>\n",
       "      <td>0</td>\n",
       "      <td>0</td>\n",
       "      <td>0</td>\n",
       "      <td>Class_1</td>\n",
       "    </tr>\n",
       "    <tr>\n",
       "      <th>3</th>\n",
       "      <td>4</td>\n",
       "      <td>1</td>\n",
       "      <td>0</td>\n",
       "      <td>0</td>\n",
       "      <td>1</td>\n",
       "      <td>6</td>\n",
       "      <td>1</td>\n",
       "      <td>5</td>\n",
       "      <td>0</td>\n",
       "      <td>0</td>\n",
       "      <td>...</td>\n",
       "      <td>0</td>\n",
       "      <td>1</td>\n",
       "      <td>2</td>\n",
       "      <td>0</td>\n",
       "      <td>0</td>\n",
       "      <td>0</td>\n",
       "      <td>0</td>\n",
       "      <td>0</td>\n",
       "      <td>0</td>\n",
       "      <td>Class_1</td>\n",
       "    </tr>\n",
       "    <tr>\n",
       "      <th>4</th>\n",
       "      <td>5</td>\n",
       "      <td>0</td>\n",
       "      <td>0</td>\n",
       "      <td>0</td>\n",
       "      <td>0</td>\n",
       "      <td>0</td>\n",
       "      <td>0</td>\n",
       "      <td>0</td>\n",
       "      <td>0</td>\n",
       "      <td>0</td>\n",
       "      <td>...</td>\n",
       "      <td>1</td>\n",
       "      <td>0</td>\n",
       "      <td>0</td>\n",
       "      <td>0</td>\n",
       "      <td>0</td>\n",
       "      <td>1</td>\n",
       "      <td>0</td>\n",
       "      <td>0</td>\n",
       "      <td>0</td>\n",
       "      <td>Class_1</td>\n",
       "    </tr>\n",
       "  </tbody>\n",
       "</table>\n",
       "<p>5 rows × 95 columns</p>\n",
       "</div>"
      ],
      "text/plain": [
       "   id  feat_1  feat_2  feat_3  feat_4  feat_5  feat_6  feat_7  feat_8  feat_9  \\\n",
       "0   1       1       0       0       0       0       0       0       0       0   \n",
       "1   2       0       0       0       0       0       0       0       1       0   \n",
       "2   3       0       0       0       0       0       0       0       1       0   \n",
       "3   4       1       0       0       1       6       1       5       0       0   \n",
       "4   5       0       0       0       0       0       0       0       0       0   \n",
       "\n",
       "   ...  feat_85  feat_86  feat_87  feat_88  feat_89  feat_90  feat_91  \\\n",
       "0  ...        1        0        0        0        0        0        0   \n",
       "1  ...        0        0        0        0        0        0        0   \n",
       "2  ...        0        0        0        0        0        0        0   \n",
       "3  ...        0        1        2        0        0        0        0   \n",
       "4  ...        1        0        0        0        0        1        0   \n",
       "\n",
       "   feat_92  feat_93   target  \n",
       "0        0        0  Class_1  \n",
       "1        0        0  Class_1  \n",
       "2        0        0  Class_1  \n",
       "3        0        0  Class_1  \n",
       "4        0        0  Class_1  \n",
       "\n",
       "[5 rows x 95 columns]"
      ]
     },
     "metadata": {},
     "output_type": "display_data"
    },
    {
     "name": "stdout",
     "output_type": "stream",
     "text": [
      "<class 'pandas.core.frame.DataFrame'>\n",
      "RangeIndex: 61878 entries, 0 to 61877\n",
      "Data columns (total 95 columns):\n",
      " #   Column   Non-Null Count  Dtype \n",
      "---  ------   --------------  ----- \n",
      " 0   id       61878 non-null  int64 \n",
      " 1   feat_1   61878 non-null  int64 \n",
      " 2   feat_2   61878 non-null  int64 \n",
      " 3   feat_3   61878 non-null  int64 \n",
      " 4   feat_4   61878 non-null  int64 \n",
      " 5   feat_5   61878 non-null  int64 \n",
      " 6   feat_6   61878 non-null  int64 \n",
      " 7   feat_7   61878 non-null  int64 \n",
      " 8   feat_8   61878 non-null  int64 \n",
      " 9   feat_9   61878 non-null  int64 \n",
      " 10  feat_10  61878 non-null  int64 \n",
      " 11  feat_11  61878 non-null  int64 \n",
      " 12  feat_12  61878 non-null  int64 \n",
      " 13  feat_13  61878 non-null  int64 \n",
      " 14  feat_14  61878 non-null  int64 \n",
      " 15  feat_15  61878 non-null  int64 \n",
      " 16  feat_16  61878 non-null  int64 \n",
      " 17  feat_17  61878 non-null  int64 \n",
      " 18  feat_18  61878 non-null  int64 \n",
      " 19  feat_19  61878 non-null  int64 \n",
      " 20  feat_20  61878 non-null  int64 \n",
      " 21  feat_21  61878 non-null  int64 \n",
      " 22  feat_22  61878 non-null  int64 \n",
      " 23  feat_23  61878 non-null  int64 \n",
      " 24  feat_24  61878 non-null  int64 \n",
      " 25  feat_25  61878 non-null  int64 \n",
      " 26  feat_26  61878 non-null  int64 \n",
      " 27  feat_27  61878 non-null  int64 \n",
      " 28  feat_28  61878 non-null  int64 \n",
      " 29  feat_29  61878 non-null  int64 \n",
      " 30  feat_30  61878 non-null  int64 \n",
      " 31  feat_31  61878 non-null  int64 \n",
      " 32  feat_32  61878 non-null  int64 \n",
      " 33  feat_33  61878 non-null  int64 \n",
      " 34  feat_34  61878 non-null  int64 \n",
      " 35  feat_35  61878 non-null  int64 \n",
      " 36  feat_36  61878 non-null  int64 \n",
      " 37  feat_37  61878 non-null  int64 \n",
      " 38  feat_38  61878 non-null  int64 \n",
      " 39  feat_39  61878 non-null  int64 \n",
      " 40  feat_40  61878 non-null  int64 \n",
      " 41  feat_41  61878 non-null  int64 \n",
      " 42  feat_42  61878 non-null  int64 \n",
      " 43  feat_43  61878 non-null  int64 \n",
      " 44  feat_44  61878 non-null  int64 \n",
      " 45  feat_45  61878 non-null  int64 \n",
      " 46  feat_46  61878 non-null  int64 \n",
      " 47  feat_47  61878 non-null  int64 \n",
      " 48  feat_48  61878 non-null  int64 \n",
      " 49  feat_49  61878 non-null  int64 \n",
      " 50  feat_50  61878 non-null  int64 \n",
      " 51  feat_51  61878 non-null  int64 \n",
      " 52  feat_52  61878 non-null  int64 \n",
      " 53  feat_53  61878 non-null  int64 \n",
      " 54  feat_54  61878 non-null  int64 \n",
      " 55  feat_55  61878 non-null  int64 \n",
      " 56  feat_56  61878 non-null  int64 \n",
      " 57  feat_57  61878 non-null  int64 \n",
      " 58  feat_58  61878 non-null  int64 \n",
      " 59  feat_59  61878 non-null  int64 \n",
      " 60  feat_60  61878 non-null  int64 \n",
      " 61  feat_61  61878 non-null  int64 \n",
      " 62  feat_62  61878 non-null  int64 \n",
      " 63  feat_63  61878 non-null  int64 \n",
      " 64  feat_64  61878 non-null  int64 \n",
      " 65  feat_65  61878 non-null  int64 \n",
      " 66  feat_66  61878 non-null  int64 \n",
      " 67  feat_67  61878 non-null  int64 \n",
      " 68  feat_68  61878 non-null  int64 \n",
      " 69  feat_69  61878 non-null  int64 \n",
      " 70  feat_70  61878 non-null  int64 \n",
      " 71  feat_71  61878 non-null  int64 \n",
      " 72  feat_72  61878 non-null  int64 \n",
      " 73  feat_73  61878 non-null  int64 \n",
      " 74  feat_74  61878 non-null  int64 \n",
      " 75  feat_75  61878 non-null  int64 \n",
      " 76  feat_76  61878 non-null  int64 \n",
      " 77  feat_77  61878 non-null  int64 \n",
      " 78  feat_78  61878 non-null  int64 \n",
      " 79  feat_79  61878 non-null  int64 \n",
      " 80  feat_80  61878 non-null  int64 \n",
      " 81  feat_81  61878 non-null  int64 \n",
      " 82  feat_82  61878 non-null  int64 \n",
      " 83  feat_83  61878 non-null  int64 \n",
      " 84  feat_84  61878 non-null  int64 \n",
      " 85  feat_85  61878 non-null  int64 \n",
      " 86  feat_86  61878 non-null  int64 \n",
      " 87  feat_87  61878 non-null  int64 \n",
      " 88  feat_88  61878 non-null  int64 \n",
      " 89  feat_89  61878 non-null  int64 \n",
      " 90  feat_90  61878 non-null  int64 \n",
      " 91  feat_91  61878 non-null  int64 \n",
      " 92  feat_92  61878 non-null  int64 \n",
      " 93  feat_93  61878 non-null  int64 \n",
      " 94  target   61878 non-null  object\n",
      "dtypes: int64(94), object(1)\n",
      "memory usage: 44.8+ MB\n"
     ]
    },
    {
     "data": {
      "text/plain": [
       "None"
      ]
     },
     "metadata": {},
     "output_type": "display_data"
    }
   ],
   "source": [
    "# Your code here\n",
    "import pandas as pd\n",
    " \n",
    "df = pd.read_csv('otto_group.csv')\n",
    "display(df.head())\n",
    "display(df.info())"
   ]
  },
  {
   "cell_type": "code",
   "execution_count": 20,
   "metadata": {},
   "outputs": [
    {
     "data": {
      "text/plain": [
       "0"
      ]
     },
     "metadata": {},
     "output_type": "display_data"
    },
    {
     "data": {
      "text/plain": [
       "False"
      ]
     },
     "metadata": {},
     "output_type": "display_data"
    }
   ],
   "source": [
    "# Your code here\n",
    "display(df.isna().sum().max())\n",
    "display(df.isna().any().any())"
   ]
  },
  {
   "cell_type": "code",
   "execution_count": 19,
   "metadata": {},
   "outputs": [
    {
     "data": {
      "text/html": [
       "<div>\n",
       "<style scoped>\n",
       "    .dataframe tbody tr th:only-of-type {\n",
       "        vertical-align: middle;\n",
       "    }\n",
       "\n",
       "    .dataframe tbody tr th {\n",
       "        vertical-align: top;\n",
       "    }\n",
       "\n",
       "    .dataframe thead th {\n",
       "        text-align: right;\n",
       "    }\n",
       "</style>\n",
       "<table border=\"1\" class=\"dataframe\">\n",
       "  <thead>\n",
       "    <tr style=\"text-align: right;\">\n",
       "      <th></th>\n",
       "      <th>id</th>\n",
       "      <th>feat_1</th>\n",
       "      <th>feat_2</th>\n",
       "      <th>feat_3</th>\n",
       "      <th>feat_4</th>\n",
       "      <th>feat_5</th>\n",
       "      <th>feat_6</th>\n",
       "      <th>feat_7</th>\n",
       "      <th>feat_8</th>\n",
       "      <th>feat_9</th>\n",
       "      <th>...</th>\n",
       "      <th>feat_84</th>\n",
       "      <th>feat_85</th>\n",
       "      <th>feat_86</th>\n",
       "      <th>feat_87</th>\n",
       "      <th>feat_88</th>\n",
       "      <th>feat_89</th>\n",
       "      <th>feat_90</th>\n",
       "      <th>feat_91</th>\n",
       "      <th>feat_92</th>\n",
       "      <th>feat_93</th>\n",
       "    </tr>\n",
       "  </thead>\n",
       "  <tbody>\n",
       "    <tr>\n",
       "      <th>count</th>\n",
       "      <td>61878.000000</td>\n",
       "      <td>61878.00000</td>\n",
       "      <td>61878.000000</td>\n",
       "      <td>61878.000000</td>\n",
       "      <td>61878.000000</td>\n",
       "      <td>61878.000000</td>\n",
       "      <td>61878.000000</td>\n",
       "      <td>61878.000000</td>\n",
       "      <td>61878.000000</td>\n",
       "      <td>61878.000000</td>\n",
       "      <td>...</td>\n",
       "      <td>61878.000000</td>\n",
       "      <td>61878.000000</td>\n",
       "      <td>61878.000000</td>\n",
       "      <td>61878.000000</td>\n",
       "      <td>61878.000000</td>\n",
       "      <td>61878.000000</td>\n",
       "      <td>61878.000000</td>\n",
       "      <td>61878.000000</td>\n",
       "      <td>61878.000000</td>\n",
       "      <td>61878.000000</td>\n",
       "    </tr>\n",
       "    <tr>\n",
       "      <th>mean</th>\n",
       "      <td>30939.500000</td>\n",
       "      <td>0.38668</td>\n",
       "      <td>0.263066</td>\n",
       "      <td>0.901467</td>\n",
       "      <td>0.779081</td>\n",
       "      <td>0.071043</td>\n",
       "      <td>0.025696</td>\n",
       "      <td>0.193704</td>\n",
       "      <td>0.662433</td>\n",
       "      <td>1.011296</td>\n",
       "      <td>...</td>\n",
       "      <td>0.070752</td>\n",
       "      <td>0.532306</td>\n",
       "      <td>1.128576</td>\n",
       "      <td>0.393549</td>\n",
       "      <td>0.874915</td>\n",
       "      <td>0.457772</td>\n",
       "      <td>0.812421</td>\n",
       "      <td>0.264941</td>\n",
       "      <td>0.380119</td>\n",
       "      <td>0.126135</td>\n",
       "    </tr>\n",
       "    <tr>\n",
       "      <th>std</th>\n",
       "      <td>17862.784315</td>\n",
       "      <td>1.52533</td>\n",
       "      <td>1.252073</td>\n",
       "      <td>2.934818</td>\n",
       "      <td>2.788005</td>\n",
       "      <td>0.438902</td>\n",
       "      <td>0.215333</td>\n",
       "      <td>1.030102</td>\n",
       "      <td>2.255770</td>\n",
       "      <td>3.474822</td>\n",
       "      <td>...</td>\n",
       "      <td>1.151460</td>\n",
       "      <td>1.900438</td>\n",
       "      <td>2.681554</td>\n",
       "      <td>1.575455</td>\n",
       "      <td>2.115466</td>\n",
       "      <td>1.527385</td>\n",
       "      <td>4.597804</td>\n",
       "      <td>2.045646</td>\n",
       "      <td>0.982385</td>\n",
       "      <td>1.201720</td>\n",
       "    </tr>\n",
       "    <tr>\n",
       "      <th>min</th>\n",
       "      <td>1.000000</td>\n",
       "      <td>0.00000</td>\n",
       "      <td>0.000000</td>\n",
       "      <td>0.000000</td>\n",
       "      <td>0.000000</td>\n",
       "      <td>0.000000</td>\n",
       "      <td>0.000000</td>\n",
       "      <td>0.000000</td>\n",
       "      <td>0.000000</td>\n",
       "      <td>0.000000</td>\n",
       "      <td>...</td>\n",
       "      <td>0.000000</td>\n",
       "      <td>0.000000</td>\n",
       "      <td>0.000000</td>\n",
       "      <td>0.000000</td>\n",
       "      <td>0.000000</td>\n",
       "      <td>0.000000</td>\n",
       "      <td>0.000000</td>\n",
       "      <td>0.000000</td>\n",
       "      <td>0.000000</td>\n",
       "      <td>0.000000</td>\n",
       "    </tr>\n",
       "    <tr>\n",
       "      <th>25%</th>\n",
       "      <td>15470.250000</td>\n",
       "      <td>0.00000</td>\n",
       "      <td>0.000000</td>\n",
       "      <td>0.000000</td>\n",
       "      <td>0.000000</td>\n",
       "      <td>0.000000</td>\n",
       "      <td>0.000000</td>\n",
       "      <td>0.000000</td>\n",
       "      <td>0.000000</td>\n",
       "      <td>0.000000</td>\n",
       "      <td>...</td>\n",
       "      <td>0.000000</td>\n",
       "      <td>0.000000</td>\n",
       "      <td>0.000000</td>\n",
       "      <td>0.000000</td>\n",
       "      <td>0.000000</td>\n",
       "      <td>0.000000</td>\n",
       "      <td>0.000000</td>\n",
       "      <td>0.000000</td>\n",
       "      <td>0.000000</td>\n",
       "      <td>0.000000</td>\n",
       "    </tr>\n",
       "    <tr>\n",
       "      <th>50%</th>\n",
       "      <td>30939.500000</td>\n",
       "      <td>0.00000</td>\n",
       "      <td>0.000000</td>\n",
       "      <td>0.000000</td>\n",
       "      <td>0.000000</td>\n",
       "      <td>0.000000</td>\n",
       "      <td>0.000000</td>\n",
       "      <td>0.000000</td>\n",
       "      <td>0.000000</td>\n",
       "      <td>0.000000</td>\n",
       "      <td>...</td>\n",
       "      <td>0.000000</td>\n",
       "      <td>0.000000</td>\n",
       "      <td>0.000000</td>\n",
       "      <td>0.000000</td>\n",
       "      <td>0.000000</td>\n",
       "      <td>0.000000</td>\n",
       "      <td>0.000000</td>\n",
       "      <td>0.000000</td>\n",
       "      <td>0.000000</td>\n",
       "      <td>0.000000</td>\n",
       "    </tr>\n",
       "    <tr>\n",
       "      <th>75%</th>\n",
       "      <td>46408.750000</td>\n",
       "      <td>0.00000</td>\n",
       "      <td>0.000000</td>\n",
       "      <td>0.000000</td>\n",
       "      <td>0.000000</td>\n",
       "      <td>0.000000</td>\n",
       "      <td>0.000000</td>\n",
       "      <td>0.000000</td>\n",
       "      <td>1.000000</td>\n",
       "      <td>0.000000</td>\n",
       "      <td>...</td>\n",
       "      <td>0.000000</td>\n",
       "      <td>0.000000</td>\n",
       "      <td>1.000000</td>\n",
       "      <td>0.000000</td>\n",
       "      <td>1.000000</td>\n",
       "      <td>0.000000</td>\n",
       "      <td>0.000000</td>\n",
       "      <td>0.000000</td>\n",
       "      <td>0.000000</td>\n",
       "      <td>0.000000</td>\n",
       "    </tr>\n",
       "    <tr>\n",
       "      <th>max</th>\n",
       "      <td>61878.000000</td>\n",
       "      <td>61.00000</td>\n",
       "      <td>51.000000</td>\n",
       "      <td>64.000000</td>\n",
       "      <td>70.000000</td>\n",
       "      <td>19.000000</td>\n",
       "      <td>10.000000</td>\n",
       "      <td>38.000000</td>\n",
       "      <td>76.000000</td>\n",
       "      <td>43.000000</td>\n",
       "      <td>...</td>\n",
       "      <td>76.000000</td>\n",
       "      <td>55.000000</td>\n",
       "      <td>65.000000</td>\n",
       "      <td>67.000000</td>\n",
       "      <td>30.000000</td>\n",
       "      <td>61.000000</td>\n",
       "      <td>130.000000</td>\n",
       "      <td>52.000000</td>\n",
       "      <td>19.000000</td>\n",
       "      <td>87.000000</td>\n",
       "    </tr>\n",
       "  </tbody>\n",
       "</table>\n",
       "<p>8 rows × 94 columns</p>\n",
       "</div>"
      ],
      "text/plain": [
       "                 id       feat_1        feat_2        feat_3        feat_4  \\\n",
       "count  61878.000000  61878.00000  61878.000000  61878.000000  61878.000000   \n",
       "mean   30939.500000      0.38668      0.263066      0.901467      0.779081   \n",
       "std    17862.784315      1.52533      1.252073      2.934818      2.788005   \n",
       "min        1.000000      0.00000      0.000000      0.000000      0.000000   \n",
       "25%    15470.250000      0.00000      0.000000      0.000000      0.000000   \n",
       "50%    30939.500000      0.00000      0.000000      0.000000      0.000000   \n",
       "75%    46408.750000      0.00000      0.000000      0.000000      0.000000   \n",
       "max    61878.000000     61.00000     51.000000     64.000000     70.000000   \n",
       "\n",
       "             feat_5        feat_6        feat_7        feat_8        feat_9  \\\n",
       "count  61878.000000  61878.000000  61878.000000  61878.000000  61878.000000   \n",
       "mean       0.071043      0.025696      0.193704      0.662433      1.011296   \n",
       "std        0.438902      0.215333      1.030102      2.255770      3.474822   \n",
       "min        0.000000      0.000000      0.000000      0.000000      0.000000   \n",
       "25%        0.000000      0.000000      0.000000      0.000000      0.000000   \n",
       "50%        0.000000      0.000000      0.000000      0.000000      0.000000   \n",
       "75%        0.000000      0.000000      0.000000      1.000000      0.000000   \n",
       "max       19.000000     10.000000     38.000000     76.000000     43.000000   \n",
       "\n",
       "       ...       feat_84       feat_85       feat_86       feat_87  \\\n",
       "count  ...  61878.000000  61878.000000  61878.000000  61878.000000   \n",
       "mean   ...      0.070752      0.532306      1.128576      0.393549   \n",
       "std    ...      1.151460      1.900438      2.681554      1.575455   \n",
       "min    ...      0.000000      0.000000      0.000000      0.000000   \n",
       "25%    ...      0.000000      0.000000      0.000000      0.000000   \n",
       "50%    ...      0.000000      0.000000      0.000000      0.000000   \n",
       "75%    ...      0.000000      0.000000      1.000000      0.000000   \n",
       "max    ...     76.000000     55.000000     65.000000     67.000000   \n",
       "\n",
       "            feat_88       feat_89       feat_90       feat_91       feat_92  \\\n",
       "count  61878.000000  61878.000000  61878.000000  61878.000000  61878.000000   \n",
       "mean       0.874915      0.457772      0.812421      0.264941      0.380119   \n",
       "std        2.115466      1.527385      4.597804      2.045646      0.982385   \n",
       "min        0.000000      0.000000      0.000000      0.000000      0.000000   \n",
       "25%        0.000000      0.000000      0.000000      0.000000      0.000000   \n",
       "50%        0.000000      0.000000      0.000000      0.000000      0.000000   \n",
       "75%        1.000000      0.000000      0.000000      0.000000      0.000000   \n",
       "max       30.000000     61.000000    130.000000     52.000000     19.000000   \n",
       "\n",
       "            feat_93  \n",
       "count  61878.000000  \n",
       "mean       0.126135  \n",
       "std        1.201720  \n",
       "min        0.000000  \n",
       "25%        0.000000  \n",
       "50%        0.000000  \n",
       "75%        0.000000  \n",
       "max       87.000000  \n",
       "\n",
       "[8 rows x 94 columns]"
      ]
     },
     "metadata": {},
     "output_type": "display_data"
    }
   ],
   "source": [
    "# Your code here\n",
    "display(df.describe())"
   ]
  },
  {
   "cell_type": "code",
   "execution_count": 24,
   "metadata": {},
   "outputs": [
    {
     "data": {
      "image/png": "[encoded data removed]",
      "text/plain": [
       "<Figure size 2160x1440 with 100 Axes>"
      ]
     },
     "metadata": {
      "needs_background": "light"
     },
     "output_type": "display_data"
    }
   ],
   "source": [
    "# Your code here\n",
    "feat = df.loc[:, 'feat_1':'feat_93']#'feat_1':'feat_93']\n",
    "feat.hist(figsize=(30,20));"
   ]
  },
  {
   "cell_type": "code",
   "execution_count": 25,
   "metadata": {},
   "outputs": [
    {
     "data": {
      "image/png": "[encoded data removed]",
      "text/plain": [
       "<Figure size 720x720 with 1 Axes>"
      ]
     },
     "metadata": {
      "needs_background": "light"
     },
     "output_type": "display_data"
    }
   ],
   "source": [
    "# Your code here\n",
    "feat.boxplot(figsize=(10,10));"
   ]
  },
  {
   "cell_type": "code",
   "execution_count": 38,
   "metadata": {},
   "outputs": [],
   "source": [
    "# Your code here\n",
    "target = df['target']"
   ]
  },
  {
   "cell_type": "markdown",
   "metadata": {},
   "source": [
    "If you look at all the histograms, you can tell that a lot of the data are zero-inflated, so most of the variables contain mostly zeros and then some higher values here and there. No normality, but for most machine learning techniques this is not an issue. "
   ]
  },
  {
   "cell_type": "code",
   "execution_count": null,
   "metadata": {},
   "outputs": [],
   "source": [
    "# Your code here"
   ]
  },
  {
   "cell_type": "markdown",
   "metadata": {},
   "source": [
    "Because there are so many zeroes, most values above zero will seem to be outliers. The safe decision for this data is to not delete any outliers and see what happens. With many 0s, sparse data is available and high values may be super informative. Moreover, without having any intuitive meaning for each of the features, we don't know if a value of ~260 is actually an outlier."
   ]
  },
  {
   "cell_type": "code",
   "execution_count": null,
   "metadata": {},
   "outputs": [],
   "source": [
    "# Your code here"
   ]
  },
  {
   "cell_type": "markdown",
   "metadata": {},
   "source": [
    "## Feature engineering and selection with PCA"
   ]
  },
  {
   "cell_type": "markdown",
   "metadata": {},
   "source": [
    "Have a look at the correlation structure of your features using a [heatmap](https://seaborn.pydata.org/generated/seaborn.heatmap.html)."
   ]
  },
  {
   "cell_type": "code",
   "execution_count": 30,
   "metadata": {},
   "outputs": [
    {
     "data": {
      "image/png": "[encoded data removed]",
      "text/plain": [
       "<Figure size 432x288 with 2 Axes>"
      ]
     },
     "metadata": {
      "needs_background": "light"
     },
     "output_type": "display_data"
    }
   ],
   "source": [
    "# Your code here\n",
    "feat = df.loc[:, 'feat_1':'feat_93']\n",
    "\n",
    "import seaborn as sns\n",
    "sns.heatmap(feat.corr(), center=0);"
   ]
  },
  {
   "cell_type": "code",
   "execution_count": 31,
   "metadata": {},
   "outputs": [
    {
     "data": {
      "text/plain": [
       "Index(['feat_1', 'feat_2', 'feat_3', 'feat_4', 'feat_5', 'feat_6', 'feat_7',\n",
       "       'feat_8', 'feat_9', 'feat_10', 'feat_11', 'feat_12', 'feat_13',\n",
       "       'feat_14', 'feat_15', 'feat_16', 'feat_17', 'feat_18', 'feat_19',\n",
       "       'feat_20', 'feat_21', 'feat_22', 'feat_23', 'feat_24', 'feat_25',\n",
       "       'feat_26', 'feat_27', 'feat_28', 'feat_29', 'feat_30', 'feat_31',\n",
       "       'feat_32', 'feat_33', 'feat_34', 'feat_35', 'feat_36', 'feat_37',\n",
       "       'feat_38', 'feat_39', 'feat_40', 'feat_41', 'feat_42', 'feat_43',\n",
       "       'feat_44', 'feat_45', 'feat_46', 'feat_47', 'feat_48', 'feat_49',\n",
       "       'feat_50', 'feat_51', 'feat_52', 'feat_53', 'feat_54', 'feat_55',\n",
       "       'feat_56', 'feat_57', 'feat_58', 'feat_59', 'feat_60', 'feat_61',\n",
       "       'feat_62', 'feat_63', 'feat_64', 'feat_65', 'feat_66', 'feat_67',\n",
       "       'feat_68', 'feat_69', 'feat_70', 'feat_71', 'feat_72', 'feat_73',\n",
       "       'feat_74', 'feat_75', 'feat_76', 'feat_77', 'feat_78', 'feat_79',\n",
       "       'feat_80', 'feat_81', 'feat_82', 'feat_83', 'feat_84', 'feat_85',\n",
       "       'feat_86', 'feat_87', 'feat_88', 'feat_89', 'feat_90', 'feat_91',\n",
       "       'feat_92', 'feat_93'],\n",
       "      dtype='object')"
      ]
     },
     "execution_count": 31,
     "metadata": {},
     "output_type": "execute_result"
    }
   ],
   "source": [
    "feat.columns"
   ]
  },
  {
   "cell_type": "markdown",
   "metadata": {},
   "source": [
    "Use PCA to select a number of features in a way that you still keep 80% of your explained variance."
   ]
  },
  {
   "cell_type": "code",
   "execution_count": 37,
   "metadata": {},
   "outputs": [
    {
     "name": "stdout",
     "output_type": "stream",
     "text": [
      "0.8086433477536518\n",
      "28\n"
     ]
    }
   ],
   "source": [
    "# Your code here\n",
    "from sklearn.decomposition import PCA\n",
    "import numpy as np\n",
    "pcas = {}\n",
    "threshold = 0.01\n",
    "target = .8\n",
    "lower=10\n",
    "upper=60\n",
    "curr_comp = int((lower+upper)/2)\n",
    "while True:\n",
    "    pca_curr = PCA(n_components=curr_comp)\n",
    "    principal_comps = pca_curr.fit_transform(feat)\n",
    "    exp_var_rat = np.sum(pca_curr.explained_variance_ratio_)\n",
    "    if exp_var_rat < target - threshold:\n",
    "        lower = curr_comp\n",
    "        curr_comp = int((lower+upper)/2)\n",
    "    elif exp_var_rat > target + threshold: \n",
    "        upper = curr_comp\n",
    "        curr_comp = int((lower+upper)/2)\n",
    "    else:\n",
    "        print(np.sum(pca_curr.explained_variance_ratio_))\n",
    "        print(curr_comp)   \n",
    "        break\n"
   ]
  },
  {
   "cell_type": "code",
   "execution_count": 51,
   "metadata": {},
   "outputs": [
    {
     "data": {
      "text/plain": [
       "28"
      ]
     },
     "execution_count": 51,
     "metadata": {},
     "output_type": "execute_result"
    }
   ],
   "source": [
    "# Your code here\n",
    "curr_comp"
   ]
  },
  {
   "cell_type": "markdown",
   "metadata": {},
   "source": [
    "## Create a train-test split with a test size of 40%\n",
    "\n",
    "This is a relatively big training set, so you can assign 40% to the test set. Set the `random_state` to 42. "
   ]
  },
  {
   "cell_type": "code",
   "execution_count": 44,
   "metadata": {},
   "outputs": [],
   "source": [
    "# Your code here\n",
    "from sklearn.model_selection import train_test_split\n",
    "X_train, X_test, y_train, y_test = train_test_split(feat, target, test_size=0.4, random_state=42)"
   ]
  },
  {
   "cell_type": "code",
   "execution_count": 50,
   "metadata": {},
   "outputs": [
    {
     "data": {
      "image/png": "[encoded data removed]",
      "text/plain": [
       "<Figure size 432x288 with 2 Axes>"
      ]
     },
     "metadata": {
      "needs_background": "light"
     },
     "output_type": "display_data"
    }
   ],
   "source": [
    "# Your code here\n",
    "import seaborn as sns\n",
    "sns.heatmap(pd.DataFrame(principal_comps).corr(), center=0);"
   ]
  },
  {
   "cell_type": "markdown",
   "metadata": {},
   "source": [
    "## Create a baseline model"
   ]
  },
  {
   "cell_type": "markdown",
   "metadata": {},
   "source": [
    "Create your baseline model *in a pipeline setting*. In the pipeline: \n",
    "\n",
    "- Your first step will be to scale your features down to the number of features that ensure you keep just 80% of your explained variance (which we saw before)\n",
    "- Your second step will be to build a basic logistic regression model \n",
    "\n",
    "Make sure to fit the model using the training set and test the result by obtaining the accuracy using the test set. Set the `random_state` to 123. "
   ]
  },
  {
   "cell_type": "code",
   "execution_count": 52,
   "metadata": {},
   "outputs": [],
   "source": [
    "# Your code here\n",
    "from sklearn.linear_model import LogisticRegression\n",
    "from sklearn.pipeline import Pipeline\n",
    "pipe = Pipeline(steps=[\n",
    "    ('pca', PCA(n_components=curr_comp, random_state=123)), \n",
    "    ('clf', LogisticRegression(random_state=123))\n",
    "    ])\n"
   ]
  },
  {
   "cell_type": "code",
   "execution_count": 54,
   "metadata": {},
   "outputs": [
    {
     "name": "stdout",
     "output_type": "stream",
     "text": [
      "0.7316984486102133\n"
     ]
    },
    {
     "name": "stderr",
     "output_type": "stream",
     "text": [
      "/opt/conda/lib/python3.9/site-packages/sklearn/linear_model/_logistic.py:763: ConvergenceWarning: lbfgs failed to converge (status=1):\n",
      "STOP: TOTAL NO. of ITERATIONS REACHED LIMIT.\n",
      "\n",
      "Increase the number of iterations (max_iter) or scale the data as shown in:\n",
      "    https://scikit-learn.org/stable/modules/preprocessing.html\n",
      "Please also refer to the documentation for alternative solver options:\n",
      "    https://scikit-learn.org/stable/modules/linear_model.html#logistic-regression\n",
      "  n_iter_i = _check_optimize_result(\n"
     ]
    }
   ],
   "source": [
    "# Your code here\n",
    "#fitting the model\n",
    "pipe.fit(X_train, y_train)\n",
    "\n",
    "#testing the result\n",
    "print(pipe.score(X_test, y_test))"
   ]
  },
  {
   "cell_type": "code",
   "execution_count": 55,
   "metadata": {},
   "outputs": [
    {
     "data": {
      "text/plain": [
       "0.7316984486102133"
      ]
     },
     "execution_count": 55,
     "metadata": {},
     "output_type": "execute_result"
    }
   ],
   "source": [
    "# Your code here\n",
    "#manually check accuracy:\n",
    "np.sum(pipe.predict(X_test) == y_test)/len(y_test)\n"
   ]
  },
  {
   "cell_type": "code",
   "execution_count": 59,
   "metadata": {},
   "outputs": [],
   "source": [
    "pipe_lr = pipe"
   ]
  },
  {
   "cell_type": "markdown",
   "metadata": {},
   "source": [
    "## Create a pipeline consisting of a linear SVM, a simple decision tree, and a simple random forest classifier"
   ]
  },
  {
   "cell_type": "markdown",
   "metadata": {},
   "source": [
    "Repeat the above, but now create three different pipelines:\n",
    "- One for a standard linear SVM\n",
    "- One for a default decision tree\n",
    "- One for a random forest classifier"
   ]
  },
  {
   "cell_type": "code",
   "execution_count": 63,
   "metadata": {},
   "outputs": [
    {
     "name": "stdout",
     "output_type": "stream",
     "text": [
      "0.7550096961861668\n",
      "0.6666127989657401\n",
      "0.773109243697479\n"
     ]
    }
   ],
   "source": [
    "# Your code here\n",
    "# ⏰ This cell may take several minutes to run\n",
    "from sklearn import svm\n",
    "from sklearn.pipeline import Pipeline\n",
    "from sklearn.ensemble import RandomForestClassifier\n",
    "from sklearn import tree\n",
    "\n",
    "#Linear SVM\n",
    "pipe_svm = Pipeline(steps=[\n",
    "    ('pca', PCA(n_components=curr_comp, random_state=123)), \n",
    "    ('clf', svm.SVC(random_state=123))\n",
    "    ])\n",
    "\n",
    "#Decision Tree\n",
    "pipe_dt = Pipeline(steps=[\n",
    "    ('pca', PCA(n_components=curr_comp, random_state=123)), \n",
    "    ('clf', tree.DecisionTreeClassifier(random_state=123))\n",
    "    ])\n",
    "\n",
    "#Random Forest\n",
    "pipe_rf = Pipeline(steps=[\n",
    "    ('pca', PCA(n_components=curr_comp, random_state=123)), \n",
    "    ('clf', RandomForestClassifier(random_state=123))\n",
    "    ])\n",
    "\n",
    "pipes=[pipe_svm, pipe_dt, pipe_rf]\n",
    "pipelabels=['SVM', 'DT', 'RF']\n",
    "for pipe, pipelabel in zip(pipes, pipelabels):\n",
    "    pipe.fit(X_train, y_train)\n",
    "    print('Accuracy score for {} model: {}'.format(pipelabel, pipe.score(X_test, y_test)))\n",
    "    "
   ]
  },
  {
   "cell_type": "markdown",
   "metadata": {},
   "source": [
    "## Pipeline with grid search"
   ]
  },
  {
   "cell_type": "markdown",
   "metadata": {},
   "source": [
    "Construct two pipelines with grid search:\n",
    "- one for random forests - try to have around 40 different models\n",
    "- one for the AdaBoost algorithm "
   ]
  },
  {
   "cell_type": "markdown",
   "metadata": {},
   "source": [
    "### Random Forest pipeline with grid search"
   ]
  },
  {
   "cell_type": "code",
   "execution_count": 65,
   "metadata": {},
   "outputs": [],
   "source": [
    "# Your code here \n",
    "# imports\n",
    "from sklearn import svm\n",
    "from sklearn.model_selection import GridSearchCV\n",
    "from sklearn.pipeline import Pipeline"
   ]
  },
  {
   "cell_type": "code",
   "execution_count": 67,
   "metadata": {},
   "outputs": [
    {
     "name": "stdout",
     "output_type": "stream",
     "text": [
      "Fitting 3 folds for each of 36 candidates, totalling 108 fits\n",
      "Best accuracy: 0.618\n",
      "\n",
      "Best params:\n",
      " {'clf__criterion': 'entropy', 'clf__max_depth': 5, 'clf__min_samples_leaf': 0.05, 'clf__min_samples_split': 0.05, 'clf__n_estimators': 120}\n"
     ]
    }
   ],
   "source": [
    "# Your code here\n",
    "# ⏰ This cell may take a long time to run!\n",
    "pipe_rf = Pipeline([('pca', PCA(n_components=curr_comp)), \n",
    "                    ('clf', RandomForestClassifier(random_state = 123))])\n",
    "\n",
    "# Set grid search params\n",
    "param_grid_forest = [ \n",
    "  {'clf__n_estimators': [120],\n",
    "   'clf__criterion': ['entropy', 'gini'], \n",
    "   'clf__max_depth': [4, 5],  \n",
    "   'clf__min_samples_leaf':[0.05 ,0.1, 0.2],  \n",
    "   'clf__min_samples_split':[0.05 ,0.1, 0.2]\n",
    "  }\n",
    "]\n",
    "\n",
    "# Construct grid search\n",
    "gs_rf = GridSearchCV(estimator=pipe_rf, \n",
    "                     param_grid=param_grid_forest, \n",
    "                     scoring='accuracy', \n",
    "                     cv=3, verbose=1, return_train_score = True)\n",
    "\n",
    "# Fit using grid search\n",
    "gs_rf.fit(X_train, y_train)\n",
    "\n",
    "# Best accuracy\n",
    "print('Best accuracy: %.3f' % gs_rf.best_score_)\n",
    "\n",
    "# Best params\n",
    "print('\\nBest params:\\n', gs_rf.best_params_)"
   ]
  },
  {
   "cell_type": "markdown",
   "metadata": {},
   "source": [
    "Use your grid search object along with `.cv_results` to get the full result overview"
   ]
  },
  {
   "cell_type": "code",
   "execution_count": 68,
   "metadata": {},
   "outputs": [
    {
     "data": {
      "text/plain": [
       "{'mean_fit_time': array([8.39064892, 8.40012161, 7.37463013, 5.5896136 , 5.63425454,\n",
       "        5.62979722, 2.89322368, 2.90676045, 2.884926  , 8.76918014,\n",
       "        8.78543433, 7.50976038, 5.57197698, 5.61381348, 5.59127943,\n",
       "        2.88488889, 2.91463367, 2.90478381, 4.70057678, 4.65735356,\n",
       "        4.17600695, 3.68524941, 3.67557581, 3.64164035, 2.3555402 ,\n",
       "        2.38583366, 2.38404361, 5.07248187, 5.01923807, 4.28920619,\n",
       "        3.62871734, 3.70218873, 3.67784071, 2.40805252, 2.4090813 ,\n",
       "        2.39753032]),\n",
       " 'std_fit_time': array([0.04371245, 0.02275416, 0.11681059, 0.08252461, 0.07034432,\n",
       "        0.08174932, 0.02126648, 0.03712438, 0.00978081, 0.11983662,\n",
       "        0.06131835, 0.10846686, 0.09106241, 0.04453849, 0.06464306,\n",
       "        0.03481817, 0.03758381, 0.03312161, 0.02837823, 0.01188259,\n",
       "        0.05702269, 0.04665866, 0.04444372, 0.0328934 , 0.05142504,\n",
       "        0.02939331, 0.0341561 , 0.05662637, 0.01601228, 0.06056851,\n",
       "        0.08530129, 0.01436072, 0.01595422, 0.0326982 , 0.02276809,\n",
       "        0.02407838]),\n",
       " 'mean_score_time': array([0.20601686, 0.20711009, 0.20017441, 0.19853512, 0.19994926,\n",
       "        0.20066746, 0.18893917, 0.18913269, 0.19017418, 0.21802632,\n",
       "        0.21305911, 0.20188697, 0.20105076, 0.19997231, 0.19939415,\n",
       "        0.18682353, 0.18999759, 0.18758591, 0.20908825, 0.20306587,\n",
       "        0.19614116, 0.20179447, 0.2022632 , 0.1987892 , 0.19359231,\n",
       "        0.18704518, 0.18858957, 0.21151924, 0.20746986, 0.20075162,\n",
       "        0.20072961, 0.20403481, 0.2017324 , 0.19119406, 0.19451936,\n",
       "        0.18885612]),\n",
       " 'std_score_time': array([0.00124153, 0.00502888, 0.0055345 , 0.00405232, 0.00405136,\n",
       "        0.00149889, 0.00226184, 0.00177781, 0.00280063, 0.00323801,\n",
       "        0.00402217, 0.00158684, 0.00197817, 0.00256866, 0.00095122,\n",
       "        0.0017826 , 0.00351182, 0.00193901, 0.00550404, 0.00375861,\n",
       "        0.00269925, 0.00254966, 0.00212287, 0.00050165, 0.00504247,\n",
       "        0.00607375, 0.00227985, 0.00142277, 0.00313136, 0.00215193,\n",
       "        0.00484754, 0.00152028, 0.00217934, 0.00344227, 0.00428237,\n",
       "        0.00218065]),\n",
       " 'param_clf__criterion': masked_array(data=['entropy', 'entropy', 'entropy', 'entropy', 'entropy',\n",
       "                    'entropy', 'entropy', 'entropy', 'entropy', 'entropy',\n",
       "                    'entropy', 'entropy', 'entropy', 'entropy', 'entropy',\n",
       "                    'entropy', 'entropy', 'entropy', 'gini', 'gini',\n",
       "                    'gini', 'gini', 'gini', 'gini', 'gini', 'gini', 'gini',\n",
       "                    'gini', 'gini', 'gini', 'gini', 'gini', 'gini', 'gini',\n",
       "                    'gini', 'gini'],\n",
       "              mask=[False, False, False, False, False, False, False, False,\n",
       "                    False, False, False, False, False, False, False, False,\n",
       "                    False, False, False, False, False, False, False, False,\n",
       "                    False, False, False, False, False, False, False, False,\n",
       "                    False, False, False, False],\n",
       "        fill_value='?',\n",
       "             dtype=object),\n",
       " 'param_clf__max_depth': masked_array(data=[4, 4, 4, 4, 4, 4, 4, 4, 4, 5, 5, 5, 5, 5, 5, 5, 5, 5,\n",
       "                    4, 4, 4, 4, 4, 4, 4, 4, 4, 5, 5, 5, 5, 5, 5, 5, 5, 5],\n",
       "              mask=[False, False, False, False, False, False, False, False,\n",
       "                    False, False, False, False, False, False, False, False,\n",
       "                    False, False, False, False, False, False, False, False,\n",
       "                    False, False, False, False, False, False, False, False,\n",
       "                    False, False, False, False],\n",
       "        fill_value='?',\n",
       "             dtype=object),\n",
       " 'param_clf__min_samples_leaf': masked_array(data=[0.05, 0.05, 0.05, 0.1, 0.1, 0.1, 0.2, 0.2, 0.2, 0.05,\n",
       "                    0.05, 0.05, 0.1, 0.1, 0.1, 0.2, 0.2, 0.2, 0.05, 0.05,\n",
       "                    0.05, 0.1, 0.1, 0.1, 0.2, 0.2, 0.2, 0.05, 0.05, 0.05,\n",
       "                    0.1, 0.1, 0.1, 0.2, 0.2, 0.2],\n",
       "              mask=[False, False, False, False, False, False, False, False,\n",
       "                    False, False, False, False, False, False, False, False,\n",
       "                    False, False, False, False, False, False, False, False,\n",
       "                    False, False, False, False, False, False, False, False,\n",
       "                    False, False, False, False],\n",
       "        fill_value='?',\n",
       "             dtype=object),\n",
       " 'param_clf__min_samples_split': masked_array(data=[0.05, 0.1, 0.2, 0.05, 0.1, 0.2, 0.05, 0.1, 0.2, 0.05,\n",
       "                    0.1, 0.2, 0.05, 0.1, 0.2, 0.05, 0.1, 0.2, 0.05, 0.1,\n",
       "                    0.2, 0.05, 0.1, 0.2, 0.05, 0.1, 0.2, 0.05, 0.1, 0.2,\n",
       "                    0.05, 0.1, 0.2, 0.05, 0.1, 0.2],\n",
       "              mask=[False, False, False, False, False, False, False, False,\n",
       "                    False, False, False, False, False, False, False, False,\n",
       "                    False, False, False, False, False, False, False, False,\n",
       "                    False, False, False, False, False, False, False, False,\n",
       "                    False, False, False, False],\n",
       "        fill_value='?',\n",
       "             dtype=object),\n",
       " 'param_clf__n_estimators': masked_array(data=[120, 120, 120, 120, 120, 120, 120, 120, 120, 120, 120,\n",
       "                    120, 120, 120, 120, 120, 120, 120, 120, 120, 120, 120,\n",
       "                    120, 120, 120, 120, 120, 120, 120, 120, 120, 120, 120,\n",
       "                    120, 120, 120],\n",
       "              mask=[False, False, False, False, False, False, False, False,\n",
       "                    False, False, False, False, False, False, False, False,\n",
       "                    False, False, False, False, False, False, False, False,\n",
       "                    False, False, False, False, False, False, False, False,\n",
       "                    False, False, False, False],\n",
       "        fill_value='?',\n",
       "             dtype=object),\n",
       " 'params': [{'clf__criterion': 'entropy',\n",
       "   'clf__max_depth': 4,\n",
       "   'clf__min_samples_leaf': 0.05,\n",
       "   'clf__min_samples_split': 0.05,\n",
       "   'clf__n_estimators': 120},\n",
       "  {'clf__criterion': 'entropy',\n",
       "   'clf__max_depth': 4,\n",
       "   'clf__min_samples_leaf': 0.05,\n",
       "   'clf__min_samples_split': 0.1,\n",
       "   'clf__n_estimators': 120},\n",
       "  {'clf__criterion': 'entropy',\n",
       "   'clf__max_depth': 4,\n",
       "   'clf__min_samples_leaf': 0.05,\n",
       "   'clf__min_samples_split': 0.2,\n",
       "   'clf__n_estimators': 120},\n",
       "  {'clf__criterion': 'entropy',\n",
       "   'clf__max_depth': 4,\n",
       "   'clf__min_samples_leaf': 0.1,\n",
       "   'clf__min_samples_split': 0.05,\n",
       "   'clf__n_estimators': 120},\n",
       "  {'clf__criterion': 'entropy',\n",
       "   'clf__max_depth': 4,\n",
       "   'clf__min_samples_leaf': 0.1,\n",
       "   'clf__min_samples_split': 0.1,\n",
       "   'clf__n_estimators': 120},\n",
       "  {'clf__criterion': 'entropy',\n",
       "   'clf__max_depth': 4,\n",
       "   'clf__min_samples_leaf': 0.1,\n",
       "   'clf__min_samples_split': 0.2,\n",
       "   'clf__n_estimators': 120},\n",
       "  {'clf__criterion': 'entropy',\n",
       "   'clf__max_depth': 4,\n",
       "   'clf__min_samples_leaf': 0.2,\n",
       "   'clf__min_samples_split': 0.05,\n",
       "   'clf__n_estimators': 120},\n",
       "  {'clf__criterion': 'entropy',\n",
       "   'clf__max_depth': 4,\n",
       "   'clf__min_samples_leaf': 0.2,\n",
       "   'clf__min_samples_split': 0.1,\n",
       "   'clf__n_estimators': 120},\n",
       "  {'clf__criterion': 'entropy',\n",
       "   'clf__max_depth': 4,\n",
       "   'clf__min_samples_leaf': 0.2,\n",
       "   'clf__min_samples_split': 0.2,\n",
       "   'clf__n_estimators': 120},\n",
       "  {'clf__criterion': 'entropy',\n",
       "   'clf__max_depth': 5,\n",
       "   'clf__min_samples_leaf': 0.05,\n",
       "   'clf__min_samples_split': 0.05,\n",
       "   'clf__n_estimators': 120},\n",
       "  {'clf__criterion': 'entropy',\n",
       "   'clf__max_depth': 5,\n",
       "   'clf__min_samples_leaf': 0.05,\n",
       "   'clf__min_samples_split': 0.1,\n",
       "   'clf__n_estimators': 120},\n",
       "  {'clf__criterion': 'entropy',\n",
       "   'clf__max_depth': 5,\n",
       "   'clf__min_samples_leaf': 0.05,\n",
       "   'clf__min_samples_split': 0.2,\n",
       "   'clf__n_estimators': 120},\n",
       "  {'clf__criterion': 'entropy',\n",
       "   'clf__max_depth': 5,\n",
       "   'clf__min_samples_leaf': 0.1,\n",
       "   'clf__min_samples_split': 0.05,\n",
       "   'clf__n_estimators': 120},\n",
       "  {'clf__criterion': 'entropy',\n",
       "   'clf__max_depth': 5,\n",
       "   'clf__min_samples_leaf': 0.1,\n",
       "   'clf__min_samples_split': 0.1,\n",
       "   'clf__n_estimators': 120},\n",
       "  {'clf__criterion': 'entropy',\n",
       "   'clf__max_depth': 5,\n",
       "   'clf__min_samples_leaf': 0.1,\n",
       "   'clf__min_samples_split': 0.2,\n",
       "   'clf__n_estimators': 120},\n",
       "  {'clf__criterion': 'entropy',\n",
       "   'clf__max_depth': 5,\n",
       "   'clf__min_samples_leaf': 0.2,\n",
       "   'clf__min_samples_split': 0.05,\n",
       "   'clf__n_estimators': 120},\n",
       "  {'clf__criterion': 'entropy',\n",
       "   'clf__max_depth': 5,\n",
       "   'clf__min_samples_leaf': 0.2,\n",
       "   'clf__min_samples_split': 0.1,\n",
       "   'clf__n_estimators': 120},\n",
       "  {'clf__criterion': 'entropy',\n",
       "   'clf__max_depth': 5,\n",
       "   'clf__min_samples_leaf': 0.2,\n",
       "   'clf__min_samples_split': 0.2,\n",
       "   'clf__n_estimators': 120},\n",
       "  {'clf__criterion': 'gini',\n",
       "   'clf__max_depth': 4,\n",
       "   'clf__min_samples_leaf': 0.05,\n",
       "   'clf__min_samples_split': 0.05,\n",
       "   'clf__n_estimators': 120},\n",
       "  {'clf__criterion': 'gini',\n",
       "   'clf__max_depth': 4,\n",
       "   'clf__min_samples_leaf': 0.05,\n",
       "   'clf__min_samples_split': 0.1,\n",
       "   'clf__n_estimators': 120},\n",
       "  {'clf__criterion': 'gini',\n",
       "   'clf__max_depth': 4,\n",
       "   'clf__min_samples_leaf': 0.05,\n",
       "   'clf__min_samples_split': 0.2,\n",
       "   'clf__n_estimators': 120},\n",
       "  {'clf__criterion': 'gini',\n",
       "   'clf__max_depth': 4,\n",
       "   'clf__min_samples_leaf': 0.1,\n",
       "   'clf__min_samples_split': 0.05,\n",
       "   'clf__n_estimators': 120},\n",
       "  {'clf__criterion': 'gini',\n",
       "   'clf__max_depth': 4,\n",
       "   'clf__min_samples_leaf': 0.1,\n",
       "   'clf__min_samples_split': 0.1,\n",
       "   'clf__n_estimators': 120},\n",
       "  {'clf__criterion': 'gini',\n",
       "   'clf__max_depth': 4,\n",
       "   'clf__min_samples_leaf': 0.1,\n",
       "   'clf__min_samples_split': 0.2,\n",
       "   'clf__n_estimators': 120},\n",
       "  {'clf__criterion': 'gini',\n",
       "   'clf__max_depth': 4,\n",
       "   'clf__min_samples_leaf': 0.2,\n",
       "   'clf__min_samples_split': 0.05,\n",
       "   'clf__n_estimators': 120},\n",
       "  {'clf__criterion': 'gini',\n",
       "   'clf__max_depth': 4,\n",
       "   'clf__min_samples_leaf': 0.2,\n",
       "   'clf__min_samples_split': 0.1,\n",
       "   'clf__n_estimators': 120},\n",
       "  {'clf__criterion': 'gini',\n",
       "   'clf__max_depth': 4,\n",
       "   'clf__min_samples_leaf': 0.2,\n",
       "   'clf__min_samples_split': 0.2,\n",
       "   'clf__n_estimators': 120},\n",
       "  {'clf__criterion': 'gini',\n",
       "   'clf__max_depth': 5,\n",
       "   'clf__min_samples_leaf': 0.05,\n",
       "   'clf__min_samples_split': 0.05,\n",
       "   'clf__n_estimators': 120},\n",
       "  {'clf__criterion': 'gini',\n",
       "   'clf__max_depth': 5,\n",
       "   'clf__min_samples_leaf': 0.05,\n",
       "   'clf__min_samples_split': 0.1,\n",
       "   'clf__n_estimators': 120},\n",
       "  {'clf__criterion': 'gini',\n",
       "   'clf__max_depth': 5,\n",
       "   'clf__min_samples_leaf': 0.05,\n",
       "   'clf__min_samples_split': 0.2,\n",
       "   'clf__n_estimators': 120},\n",
       "  {'clf__criterion': 'gini',\n",
       "   'clf__max_depth': 5,\n",
       "   'clf__min_samples_leaf': 0.1,\n",
       "   'clf__min_samples_split': 0.05,\n",
       "   'clf__n_estimators': 120},\n",
       "  {'clf__criterion': 'gini',\n",
       "   'clf__max_depth': 5,\n",
       "   'clf__min_samples_leaf': 0.1,\n",
       "   'clf__min_samples_split': 0.1,\n",
       "   'clf__n_estimators': 120},\n",
       "  {'clf__criterion': 'gini',\n",
       "   'clf__max_depth': 5,\n",
       "   'clf__min_samples_leaf': 0.1,\n",
       "   'clf__min_samples_split': 0.2,\n",
       "   'clf__n_estimators': 120},\n",
       "  {'clf__criterion': 'gini',\n",
       "   'clf__max_depth': 5,\n",
       "   'clf__min_samples_leaf': 0.2,\n",
       "   'clf__min_samples_split': 0.05,\n",
       "   'clf__n_estimators': 120},\n",
       "  {'clf__criterion': 'gini',\n",
       "   'clf__max_depth': 5,\n",
       "   'clf__min_samples_leaf': 0.2,\n",
       "   'clf__min_samples_split': 0.1,\n",
       "   'clf__n_estimators': 120},\n",
       "  {'clf__criterion': 'gini',\n",
       "   'clf__max_depth': 5,\n",
       "   'clf__min_samples_leaf': 0.2,\n",
       "   'clf__min_samples_split': 0.2,\n",
       "   'clf__n_estimators': 120}],\n",
       " 'split0_test_score': array([0.61595023, 0.61417259, 0.56124758, 0.49555591, 0.49507111,\n",
       "        0.4949903 , 0.43325792, 0.43293471, 0.43350032, 0.61910149,\n",
       "        0.61805107, 0.56302521, 0.49402069, 0.49434389, 0.49345507,\n",
       "        0.43269231, 0.43341952, 0.43325792, 0.60787007, 0.61021332,\n",
       "        0.55300582, 0.50735294, 0.50953458, 0.5053329 , 0.4426309 ,\n",
       "        0.4428733 , 0.44311571, 0.61885908, 0.62063672, 0.5624596 ,\n",
       "        0.50735294, 0.50622172, 0.50719134, 0.44311571, 0.4427925 ,\n",
       "        0.44311571]),\n",
       " 'split1_test_score': array([0.61220202, 0.61147475, 0.55014141, 0.48614141, 0.48533333,\n",
       "        0.48541414, 0.43846465, 0.43894949, 0.43628283, 0.61745455,\n",
       "        0.61834343, 0.55224242, 0.48581818, 0.48743434, 0.48614141,\n",
       "        0.43458586, 0.43870707, 0.43757576, 0.59757576, 0.59773737,\n",
       "        0.53454545, 0.48420202, 0.48307071, 0.48460606, 0.4429899 ,\n",
       "        0.44331313, 0.44363636, 0.60840404, 0.60767677, 0.54335354,\n",
       "        0.48751515, 0.4859798 , 0.48670707, 0.44282828, 0.44323232,\n",
       "        0.44379798]),\n",
       " 'split2_test_score': array([0.61284848, 0.6120404 , 0.54577778, 0.51676768, 0.51684848,\n",
       "        0.51709091, 0.44759596, 0.44606061, 0.44565657, 0.61810101,\n",
       "        0.61672727, 0.54925253, 0.5179798 , 0.51725253, 0.51814141,\n",
       "        0.44573737, 0.44581818, 0.44727273, 0.60016162, 0.59870707,\n",
       "        0.54222222, 0.51280808, 0.51450505, 0.51361616, 0.44783838,\n",
       "        0.44775758, 0.44791919, 0.61640404, 0.61761616, 0.55733333,\n",
       "        0.51442424, 0.51369697, 0.51321212, 0.44751515, 0.44791919,\n",
       "        0.448     ]),\n",
       " 'mean_test_score': array([0.61366691, 0.61256258, 0.55238892, 0.49948834, 0.49908431,\n",
       "        0.49916512, 0.43977284, 0.43931494, 0.43847991, 0.61821901,\n",
       "        0.61770726, 0.55484005, 0.49927289, 0.49967692, 0.49924597,\n",
       "        0.43767185, 0.43931492, 0.4393688 , 0.60186915, 0.60221925,\n",
       "        0.54325783, 0.50145435, 0.50237011, 0.50118504, 0.44448639,\n",
       "        0.444648  , 0.44489042, 0.61455572, 0.61530988, 0.55438216,\n",
       "        0.50309745, 0.50196616, 0.50237018, 0.44448638, 0.44464801,\n",
       "        0.44497123]),\n",
       " 'std_test_score': array([0.00163598, 0.00116163, 0.00651241, 0.01280859, 0.01317524,\n",
       "        0.01326464, 0.00592612, 0.00536485, 0.00520025, 0.00067752,\n",
       "        0.00070316, 0.00591509, 0.01364506, 0.01274394, 0.01369065,\n",
       "        0.00575534, 0.00507995, 0.00586032, 0.00437264, 0.0056665 ,\n",
       "        0.0075719 , 0.01240085, 0.01379678, 0.01220109, 0.00237474,\n",
       "        0.00220612, 0.00215219, 0.00446387, 0.0055365 , 0.00807434,\n",
       "        0.01139025, 0.01170876, 0.01134496, 0.00214488, 0.00232004,\n",
       "        0.0021597 ]),\n",
       " 'rank_test_score': array([ 5,  6, 11, 20, 24, 23, 31, 33, 35,  1,  2,  9, 21, 19, 22, 36, 34,\n",
       "        32,  8,  7, 12, 17, 15, 18, 29, 28, 26,  4,  3, 10, 13, 16, 14, 30,\n",
       "        27, 25], dtype=int32),\n",
       " 'split0_train_score': array([0.62      , 0.61749495, 0.56573737, 0.49971717, 0.50032323,\n",
       "        0.50064646, 0.43410101, 0.4339798 , 0.43422222, 0.62323232,\n",
       "        0.62141414, 0.56719192, 0.49987879, 0.50044444, 0.49842424,\n",
       "        0.43381818, 0.43393939, 0.43414141, 0.61119192, 0.61337374,\n",
       "        0.56024242, 0.50993939, 0.51208081, 0.50905051, 0.44294949,\n",
       "        0.44323232, 0.44319192, 0.62258586, 0.62286869, 0.56751515,\n",
       "        0.51046465, 0.50965657, 0.51062626, 0.44327273, 0.44323232,\n",
       "        0.44351515]),\n",
       " 'split1_train_score': array([0.61169246, 0.61145004, 0.54935154, 0.4899196 , 0.48886914,\n",
       "        0.48947517, 0.44074987, 0.44192154, 0.43917417, 0.61593471,\n",
       "        0.6173892 , 0.55270494, 0.48959638, 0.49044483, 0.49028322,\n",
       "        0.43828532, 0.44147711, 0.439659  , 0.5956931 , 0.59722839,\n",
       "        0.53197851, 0.48418246, 0.48365723, 0.48531372, 0.44422448,\n",
       "        0.44446689, 0.4445881 , 0.60700578, 0.60579371, 0.54143267,\n",
       "        0.48705103, 0.48668741, 0.48648539, 0.44382045, 0.44373965,\n",
       "        0.4446689 ]),\n",
       " 'split2_train_score': array([0.61504586, 0.61456103, 0.54074583, 0.51266615, 0.51399943,\n",
       "        0.51286817, 0.44434568, 0.44329522, 0.442972  , 0.61880328,\n",
       "        0.61823765, 0.5453113 , 0.51387823, 0.51363581, 0.51412064,\n",
       "        0.44192154, 0.44325482, 0.44394166, 0.60159185, 0.59957173,\n",
       "        0.54038221, 0.51080764, 0.5117773 , 0.51165609, 0.44596178,\n",
       "        0.44600218, 0.44584057, 0.61775282, 0.61710638, 0.55714921,\n",
       "        0.51250455, 0.51226213, 0.51165609, 0.44608299, 0.44592138,\n",
       "        0.44567896]),\n",
       " 'mean_train_score': array([0.61557944, 0.61450201, 0.55194491, 0.50076764, 0.50106393,\n",
       "        0.5009966 , 0.43973219, 0.43973219, 0.43878947, 0.61932344,\n",
       "        0.61901366, 0.55506939, 0.5011178 , 0.50150836, 0.5009427 ,\n",
       "        0.43800835, 0.43955711, 0.43924736, 0.60282563, 0.60339129,\n",
       "        0.54420105, 0.50164317, 0.50250511, 0.50200677, 0.44437858,\n",
       "        0.44456713, 0.4445402 , 0.61578148, 0.61525626, 0.55536568,\n",
       "        0.50334007, 0.5028687 , 0.50292258, 0.44439206, 0.44429778,\n",
       "        0.44462101]),\n",
       " 'std_train_score': array([0.00341246, 0.00246818, 0.01036624, 0.0093159 , 0.01027276,\n",
       "        0.00955336, 0.00424383, 0.00410603, 0.00358243, 0.00300186,\n",
       "        0.00173238, 0.00908784, 0.00995166, 0.00949752, 0.00989318,\n",
       "        0.00331397, 0.00403808, 0.00401151, 0.00638723, 0.00712319,\n",
       "        0.01185045, 0.01235167, 0.01332804, 0.0118516 , 0.00123458,\n",
       "        0.00113301, 0.00108184, 0.00651149, 0.00709253, 0.01072255,\n",
       "        0.01154816, 0.01149124, 0.01163045, 0.0012164 , 0.00116659,\n",
       "        0.00088402])}"
      ]
     },
     "execution_count": 68,
     "metadata": {},
     "output_type": "execute_result"
    }
   ],
   "source": [
    "# Your code here \n",
    "gs_rf.cv_results_"
   ]
  },
  {
   "cell_type": "markdown",
   "metadata": {},
   "source": [
    "### AdaBoost"
   ]
  },
  {
   "cell_type": "code",
   "execution_count": 69,
   "metadata": {},
   "outputs": [
    {
     "name": "stdout",
     "output_type": "stream",
     "text": [
      "Fitting 3 folds for each of 36 candidates, totalling 108 fits\n",
      "Best accuracy: 0.619\n",
      "\n",
      "Best params:\n",
      " {'clf__criterion': 'entropy', 'clf__max_depth': 5, 'clf__min_samples_leaf': 0.05, 'clf__min_samples_split': 0.1, 'clf__n_estimators': 120}\n"
     ]
    }
   ],
   "source": [
    "# Your code here\n",
    "from sklearn.ensemble import AdaBoostClassifier\n",
    "# ⏰ This cell may take several minutes to run\n",
    "pipe_ada = Pipeline([('pca', PCA(n_components=curr_comp)), \n",
    "                    ('clf', AdaBoostClassifier(random_state = 123))])\n",
    "\n",
    "# Set grid search params\n",
    "adaboost_param_grid = {\n",
    "    'clf__n_estimators': [30, 50, ],\n",
    "    'clf__learning_rate': [1.0, 0.1]\n",
    "}\n",
    "\n",
    "# Construct grid search\n",
    "gs_rf = GridSearchCV(estimator=pipe_rf, \n",
    "                     param_grid=param_grid_forest, \n",
    "                     scoring='accuracy', \n",
    "                     cv=3, verbose=1, return_train_score = True)\n",
    "\n",
    "# Fit using grid search\n",
    "gs_rf.fit(X_train, y_train)\n",
    "\n",
    "# Best accuracy\n",
    "print('Best accuracy: %.3f' % gs_rf.best_score_)\n",
    "\n",
    "# Best params\n",
    "print('\\nBest params:\\n', gs_rf.best_params_)"
   ]
  },
  {
   "cell_type": "code",
   "execution_count": null,
   "metadata": {},
   "outputs": [],
   "source": []
  },
  {
   "cell_type": "markdown",
   "metadata": {},
   "source": [
    "Use your grid search object along with `.cv_results` to get the full result overview: "
   ]
  },
  {
   "cell_type": "code",
   "execution_count": 70,
   "metadata": {},
   "outputs": [
    {
     "ename": "NameError",
     "evalue": "name 'gs_ada' is not defined",
     "output_type": "error",
     "traceback": [
      "\u001b[0;31m---------------------------------------------------------------------------\u001b[0m",
      "\u001b[0;31mNameError\u001b[0m                                 Traceback (most recent call last)",
      "\u001b[0;32m/tmp/ipykernel_323/2757860354.py\u001b[0m in \u001b[0;36m<module>\u001b[0;34m\u001b[0m\n\u001b[1;32m      1\u001b[0m \u001b[0;31m# Your code here\u001b[0m\u001b[0;34m\u001b[0m\u001b[0;34m\u001b[0m\u001b[0;34m\u001b[0m\u001b[0m\n\u001b[0;32m----> 2\u001b[0;31m \u001b[0mgs_ada\u001b[0m\u001b[0;34m.\u001b[0m\u001b[0mcv_results_\u001b[0m\u001b[0;34m\u001b[0m\u001b[0;34m\u001b[0m\u001b[0m\n\u001b[0m",
      "\u001b[0;31mNameError\u001b[0m: name 'gs_ada' is not defined"
     ]
    }
   ],
   "source": [
    "# Your code here \n",
    "gs_ada.cv_results_"
   ]
  },
  {
   "cell_type": "markdown",
   "metadata": {},
   "source": [
    "### Level-up (Optional): SVM pipeline with grid search \n",
    "\n",
    "As extra level-up work, construct a pipeline with grid search for support vector machines. \n",
    "* Make sure your grid isn't too big. You'll see it takes quite a while to fit SVMs with non-linear kernel functions!"
   ]
  },
  {
   "cell_type": "code",
   "execution_count": null,
   "metadata": {},
   "outputs": [],
   "source": [
    "# Your code here\n",
    "# ⏰ This cell may take a very long time to run!\n",
    "# Construct pipeline\n",
    "pipe_svm = Pipeline([('pca', PCA(n_components=27)), \n",
    "                     ('clf', svm.SVC(random_state=123))])\n",
    "\n",
    "# Set grid search params\n",
    "param_grid_svm = [\n",
    "  {'clf__C': [0.1, 1, 10] , 'clf__kernel': ['linear']},\n",
    "  {'clf__C': [1, 10], 'clf__gamma': [0.001, 0.01], 'clf__kernel': ['rbf']},\n",
    " ]\n",
    "\n",
    "# Construct grid search\n",
    "gs_svm = GridSearchCV(estimator=pipe_svm, \n",
    "                      param_grid=param_grid_svm, \n",
    "                      scoring='accuracy', \n",
    "                      cv=3, verbose=2, return_train_score = True)\n",
    "\n",
    "# Fit using grid search\n",
    "gs_svm.fit(X_train, y_train)\n",
    "\n",
    "# Best accuracy\n",
    "print('Best accuracy: %.3f' % gs_svm.best_score_)\n",
    "\n",
    "# Best params\n",
    "print('\\nBest params:\\n', gs_svm.best_params_)"
   ]
  },
  {
   "cell_type": "markdown",
   "metadata": {},
   "source": [
    "Use your grid search object along with `.cv_results` to get the full result overview: "
   ]
  },
  {
   "cell_type": "code",
   "execution_count": null,
   "metadata": {},
   "outputs": [],
   "source": [
    "# Your code here \n",
    "gs_svm.cv_results_"
   ]
  },
  {
   "cell_type": "markdown",
   "metadata": {},
   "source": [
    "## Note\n",
    "\n",
    "Note that this solution is only one of many options. The results in the Random Forest and AdaBoost models show that there is a lot of improvement possible by tuning the hyperparameters further, so make sure to explore this yourself!"
   ]
  },
  {
   "cell_type": "markdown",
   "metadata": {},
   "source": [
    "## Summary \n",
    "\n",
    "Great! You've gotten a lot of practice in using PCA in pipelines. What algorithm would you choose and why?"
   ]
  }
 ],
 "metadata": {
  "kernelspec": {
   "display_name": "Python 3",
   "language": "python",
   "name": "python3"
  },
  "language_info": {
   "codemirror_mode": {
    "name": "ipython",
    "version": 3
   },
   "file_extension": ".py",
   "mimetype": "text/x-python",
   "name": "python",
   "nbconvert_exporter": "python",
   "pygments_lexer": "ipython3",
   "version": "3.9.5"
  },
  "toc": {
   "base_numbering": 1,
   "nav_menu": {},
   "number_sections": true,
   "sideBar": true,
   "skip_h1_title": false,
   "title_cell": "Table of Contents",
   "title_sidebar": "Contents",
   "toc_cell": false,
   "toc_position": {},
   "toc_section_display": true,
   "toc_window_display": false
  }
 },
 "nbformat": 4,
 "nbformat_minor": 2
}
